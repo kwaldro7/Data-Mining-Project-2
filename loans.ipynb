{
 "cells": [
  {
   "cell_type": "code",
   "execution_count": 10,
   "id": "d5eee7d0",
   "metadata": {},
   "outputs": [],
   "source": [
    "import pandas as pd\n",
    "from sklearn.model_selection import train_test_split\n",
    "from sklearn.linear_model import LogisticRegression\n",
    "from sklearn.tree import DecisionTreeClassifier\n",
    "from sklearn.metrics import accuracy_score, classification_report\n"
   ]
  },
  {
   "cell_type": "code",
   "execution_count": 11,
   "id": "e03c33b4",
   "metadata": {},
   "outputs": [
    {
     "name": "stdout",
     "output_type": "stream",
     "text": [
      "Dataset Shape: (5000, 14)\n",
      "   Applicant_ID  Age  Income  Credit_Score  Loan_Amount  Loan_Term  \\\n",
      "0             1   56   21920           639       452748         72   \n",
      "1             2   69  126121           655       257134         60   \n",
      "2             3   46   96872           467       226437         72   \n",
      "3             4   32  101132           751       310480         12   \n",
      "4             5   60   22093           404        13070         12   \n",
      "\n",
      "   Interest_Rate Employment_Status  Debt_to_Income_Ratio Marital_Status  \\\n",
      "0           4.53        Unemployed                 43.35        Married   \n",
      "1           5.38        Unemployed                 10.42       Divorced   \n",
      "2           3.46     Self-Employed                 45.39       Divorced   \n",
      "3          14.00        Unemployed                  8.58         Single   \n",
      "4           9.13     Self-Employed                 20.70       Divorced   \n",
      "\n",
      "   Number_of_Dependents Property_Ownership Loan_Purpose  Previous_Defaults  \n",
      "0                     2           Mortgage     Business                  0  \n",
      "1                     0           Mortgage    Education                  0  \n",
      "2                     4           Mortgage          Car                  0  \n",
      "3                     2           Mortgage     Business                  0  \n",
      "4                     1           Mortgage         Home                  0  \n"
     ]
    }
   ],
   "source": [
    "# ----------------------------\n",
    "# Step 2: Load Data\n",
    "# ----------------------------\n",
    "df = pd.read_csv(\"loan_approval_dataset.csv\")\n",
    "\n",
    "print(\"Dataset Shape:\", df.shape)\n",
    "print(df.head())\n"
   ]
  },
  {
   "cell_type": "code",
   "execution_count": 12,
   "id": "0de9884c",
   "metadata": {},
   "outputs": [],
   "source": [
    "# ----------------------------\n",
    "# Step 3: Preprocess\n",
    "# ----------------------------\n",
    "# Drop ID column (not useful for prediction)\n",
    "df = df.drop(\"Applicant_ID\", axis=1)\n",
    "\n",
    "# Drop rows with missing values (simple approach)\n",
    "df = df.dropna()\n",
    "\n",
    "# Separate target and features\n",
    "y = df[\"Previous_Defaults\"]\n",
    "X = df.drop(\"Previous_Defaults\", axis=1)\n",
    "\n",
    "# Convert categorical features using one-hot encoding\n",
    "X = pd.get_dummies(X, drop_first=True)"
   ]
  },
  {
   "cell_type": "code",
   "execution_count": 13,
   "id": "63483cba",
   "metadata": {},
   "outputs": [],
   "source": [
    "# ----------------------------\n",
    "# Step 4: Train/Test Split\n",
    "# ----------------------------\n",
    "X_train, X_test, y_train, y_test = train_test_split(\n",
    "    X, y, test_size=0.3, random_state=42, stratify=y\n",
    ")\n"
   ]
  },
  {
   "cell_type": "code",
   "execution_count": 14,
   "id": "c386b266",
   "metadata": {},
   "outputs": [
    {
     "name": "stderr",
     "output_type": "stream",
     "text": [
      "c:\\Users\\keato\\anaconda3\\envs\\DataMining1\\Lib\\site-packages\\sklearn\\linear_model\\_logistic.py:473: ConvergenceWarning: lbfgs failed to converge after 500 iteration(s) (status=1):\n",
      "STOP: TOTAL NO. OF ITERATIONS REACHED LIMIT\n",
      "\n",
      "Increase the number of iterations to improve the convergence (max_iter=500).\n",
      "You might also want to scale the data as shown in:\n",
      "    https://scikit-learn.org/stable/modules/preprocessing.html\n",
      "Please also refer to the documentation for alternative solver options:\n",
      "    https://scikit-learn.org/stable/modules/linear_model.html#logistic-regression\n",
      "  n_iter_i = _check_optimize_result(\n"
     ]
    }
   ],
   "source": [
    "# ----------------------------\n",
    "# Step 5: Train Models\n",
    "# ----------------------------\n",
    "# Logistic Regression\n",
    "log_model = LogisticRegression(max_iter=500)\n",
    "log_model.fit(X_train, y_train)\n",
    "y_pred_log = log_model.predict(X_test)\n",
    "\n",
    "# Decision Tree\n",
    "tree_model = DecisionTreeClassifier(random_state=42)\n",
    "tree_model.fit(X_train, y_train)\n",
    "y_pred_tree = tree_model.predict(X_test)"
   ]
  },
  {
   "cell_type": "code",
   "execution_count": 17,
   "id": "122c363e",
   "metadata": {},
   "outputs": [
    {
     "name": "stdout",
     "output_type": "stream",
     "text": [
      "Logistic Regression\n",
      "Accuracy: 0.9006666666666666\n",
      "              precision    recall  f1-score   support\n",
      "\n",
      "           0       0.90      1.00      0.95      1351\n",
      "           1       0.00      0.00      0.00       149\n",
      "\n",
      "    accuracy                           0.90      1500\n",
      "   macro avg       0.45      0.50      0.47      1500\n",
      "weighted avg       0.81      0.90      0.85      1500\n",
      "\n",
      "\n",
      "Decision Tree\n",
      "Accuracy: 0.8153333333333334\n",
      "              precision    recall  f1-score   support\n",
      "\n",
      "           0       0.90      0.89      0.90      1351\n",
      "           1       0.12      0.13      0.13       149\n",
      "\n",
      "    accuracy                           0.82      1500\n",
      "   macro avg       0.51      0.51      0.51      1500\n",
      "weighted avg       0.83      0.82      0.82      1500\n",
      "\n"
     ]
    },
    {
     "name": "stderr",
     "output_type": "stream",
     "text": [
      "c:\\Users\\keato\\anaconda3\\envs\\DataMining1\\Lib\\site-packages\\sklearn\\metrics\\_classification.py:1731: UndefinedMetricWarning: Precision is ill-defined and being set to 0.0 in labels with no predicted samples. Use `zero_division` parameter to control this behavior.\n",
      "  _warn_prf(average, modifier, f\"{metric.capitalize()} is\", result.shape[0])\n",
      "c:\\Users\\keato\\anaconda3\\envs\\DataMining1\\Lib\\site-packages\\sklearn\\metrics\\_classification.py:1731: UndefinedMetricWarning: Precision is ill-defined and being set to 0.0 in labels with no predicted samples. Use `zero_division` parameter to control this behavior.\n",
      "  _warn_prf(average, modifier, f\"{metric.capitalize()} is\", result.shape[0])\n",
      "c:\\Users\\keato\\anaconda3\\envs\\DataMining1\\Lib\\site-packages\\sklearn\\metrics\\_classification.py:1731: UndefinedMetricWarning: Precision is ill-defined and being set to 0.0 in labels with no predicted samples. Use `zero_division` parameter to control this behavior.\n",
      "  _warn_prf(average, modifier, f\"{metric.capitalize()} is\", result.shape[0])\n"
     ]
    }
   ],
   "source": [
    "# ----------------------------\n",
    "# Step 6: Evaluate\n",
    "# ----------------------------\n",
    "print(\"Logistic Regression\")\n",
    "print(\"Accuracy:\", accuracy_score(y_test, y_pred_log))\n",
    "print(classification_report(y_test, y_pred_log))\n",
    "\n",
    "print(\"\\nDecision Tree\")\n",
    "print(\"Accuracy:\", accuracy_score(y_test, y_pred_tree))\n",
    "print(classification_report(y_test, y_pred_tree))\n"
   ]
  }
 ],
 "metadata": {
  "kernelspec": {
   "display_name": "DataMining1",
   "language": "python",
   "name": "python3"
  },
  "language_info": {
   "codemirror_mode": {
    "name": "ipython",
    "version": 3
   },
   "file_extension": ".py",
   "mimetype": "text/x-python",
   "name": "python",
   "nbconvert_exporter": "python",
   "pygments_lexer": "ipython3",
   "version": "3.13.5"
  }
 },
 "nbformat": 4,
 "nbformat_minor": 5
}
